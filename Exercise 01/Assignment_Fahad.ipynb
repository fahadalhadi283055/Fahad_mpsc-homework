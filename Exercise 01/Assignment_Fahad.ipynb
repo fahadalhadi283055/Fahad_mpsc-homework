{
 "cells": [
  {
   "cell_type": "markdown",
   "id": "385c8697-64cf-468d-b1a5-7eb1c0190147",
   "metadata": {},
   "source": [
    "# Exercise 1:\n",
    "#### Your software receives a message with data of clients that, for an unknown reason, is not in the needed format.\n",
    "#### The messages look like:\n",
    "\n",
    "    https://database.com/user/augustom,AugUSto Martin, 23, Approved,,\n",
    "    https://database.com/user/juliasch,JuLIA SchmidT, 67, rejected,,\n",
    "    https://database.com/user/kmarx,Karl Marx, 42, rejected,,\n",
    "\n",
    "#### However, your software needs to process messages like this:\n",
    "\n",
    "    message:  augustom,augustomartin,23,approved\n",
    "    message:  juliasch,juliaschmidt,67,rejected\n",
    "    message:  kmarx,karlmarx,42,rejected\n",
    "\n",
    "#### __Task__: Use `str` methods to correct the original message so you ALWAYS have messages compatible with your software.\n",
    "#### You explore the list of methods available in in `str` class [here](https://docs.python.org/3/library/stdtypes.html#textseq)"
   ]
  },
  {
   "cell_type": "code",
   "execution_count": 1,
   "id": "65950541-05fa-4fc9-8ac2-2b221dae4e0f",
   "metadata": {},
   "outputs": [],
   "source": [
    "message_1 = \"https://database.com/user/kmarx,Karl Marx, 42, rejected,,\""
   ]
  },
  {
   "cell_type": "code",
   "execution_count": 2,
   "id": "927eceb8-6768-4e3f-8e78-be273ea57259",
   "metadata": {},
   "outputs": [],
   "source": [
    "message_2 = \"https://database.com/user/juliasch,JuLIA SchmidT, 67, rejected,,\""
   ]
  },
  {
   "cell_type": "code",
   "execution_count": 3,
   "id": "484cc0c7-0e09-4405-8c13-a20b675bd786",
   "metadata": {},
   "outputs": [],
   "source": [
    "message = message_1,message_2"
   ]
  },
  {
   "cell_type": "code",
   "execution_count": 4,
   "id": "7bc5c339-5908-467f-bee1-37c111cb2572",
   "metadata": {},
   "outputs": [
    {
     "data": {
      "text/plain": [
       "('https://database.com/user/kmarx,Karl Marx, 42, rejected,,',\n",
       " 'https://database.com/user/juliasch,JuLIA SchmidT, 67, rejected,,')"
      ]
     },
     "execution_count": 4,
     "metadata": {},
     "output_type": "execute_result"
    }
   ],
   "source": [
    "message"
   ]
  },
  {
   "cell_type": "code",
   "execution_count": 5,
   "id": "f8736eae-2412-41ec-b80e-51bea5b68c9f",
   "metadata": {},
   "outputs": [
    {
     "data": {
      "text/plain": [
       "tuple"
      ]
     },
     "execution_count": 5,
     "metadata": {},
     "output_type": "execute_result"
    }
   ],
   "source": [
    "type(message)"
   ]
  },
  {
   "cell_type": "code",
   "execution_count": 6,
   "id": "fc7890e5-174e-45cb-b179-4fb1583c47e4",
   "metadata": {
    "scrolled": true
   },
   "outputs": [
    {
     "name": "stdout",
     "output_type": "stream",
     "text": [
      "message:  kmarx,karlmarx,42,rejected\n",
      "message:  juliasch,juliaschmidt,67,rejected\n"
     ]
    }
   ],
   "source": [
    "for i in range(2):\n",
    "    updated_message = message[i].lower().removeprefix('https://database.com/user/').strip(',')\n",
    "    print('message:  '+updated_message.replace(\" \",\"\"))"
   ]
  },
  {
   "cell_type": "markdown",
   "id": "ebc3f0bd-082d-4d83-98d3-93eab261f3fb",
   "metadata": {},
   "source": [
    "# Exercise 2:\n",
    "__Task__: Calculate the arclength of an angle"
   ]
  },
  {
   "cell_type": "code",
   "execution_count": 7,
   "id": "3e900d30-cad8-48da-9c93-532c87c53666",
   "metadata": {},
   "outputs": [
    {
     "name": "stdout",
     "output_type": "stream",
     "text": [
      "3.5325000000000006\n"
     ]
    }
   ],
   "source": [
    "diameter = 9\n",
    "radius=diameter/2\n",
    "theeta = 45\n",
    "angle = (3.14/180)*45\n",
    "print(angle*radius)"
   ]
  }
 ],
 "metadata": {
  "kernelspec": {
   "display_name": "Python 3 (ipykernel)",
   "language": "python",
   "name": "python3"
  },
  "language_info": {
   "codemirror_mode": {
    "name": "ipython",
    "version": 3
   },
   "file_extension": ".py",
   "mimetype": "text/x-python",
   "name": "python",
   "nbconvert_exporter": "python",
   "pygments_lexer": "ipython3",
   "version": "3.12.9"
  }
 },
 "nbformat": 4,
 "nbformat_minor": 5
}
