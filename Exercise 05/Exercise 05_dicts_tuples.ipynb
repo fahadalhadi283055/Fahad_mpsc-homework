{
 "cells": [
  {
   "cell_type": "code",
   "execution_count": 1,
   "id": "a55ccfa4-066e-4f55-b876-15cb828213b5",
   "metadata": {},
   "outputs": [
    {
     "name": "stdout",
     "output_type": "stream",
     "text": [
      "[{'name': 'Alice', 'grades': [85, 90, 92], 'average': 89.0}, {'name': 'Bob', 'grades': [70, 80, 88], 'average': 79.33}, {'name': 'Charlie', 'grades': [93, 95, 97], 'average': 95.0}]\n"
     ]
    }
   ],
   "source": [
    "def process_student_grades(students):\n",
    "    processed_students = []\n",
    "    \n",
    "    for student in students:\n",
    "        # Create a copy of the original dictionary to avoid modifying it directly\n",
    "        student_data = student.copy()\n",
    "        \n",
    "        # Sort the grades\n",
    "        sorted_grades = sorted(student_data['grades'])\n",
    "        student_data['grades'] = sorted_grades\n",
    "        \n",
    "        # Calculate the average grade\n",
    "        average = sum(sorted_grades) / len(sorted_grades)\n",
    "        student_data['average'] = round(average, 2)  # Round to 2 decimal places\n",
    "        \n",
    "        processed_students.append(student_data)\n",
    "    \n",
    "    return processed_students\n",
    "\n",
    "# Example usage\n",
    "students = [\n",
    "    {'name': 'Alice', 'grades': [90, 85, 92]},\n",
    "    {'name': 'Bob', 'grades': [70, 88, 80]},\n",
    "    {'name': 'Charlie', 'grades': [95, 93, 97]}\n",
    "]\n",
    "\n",
    "processed_students = process_student_grades(students)\n",
    "print(processed_students)"
   ]
  },
  {
   "cell_type": "code",
   "execution_count": null,
   "id": "db16bb97-440e-419a-876e-1183a6dcb9c3",
   "metadata": {},
   "outputs": [],
   "source": []
  }
 ],
 "metadata": {
  "kernelspec": {
   "display_name": "Python 3 (ipykernel)",
   "language": "python",
   "name": "python3"
  },
  "language_info": {
   "codemirror_mode": {
    "name": "ipython",
    "version": 3
   },
   "file_extension": ".py",
   "mimetype": "text/x-python",
   "name": "python",
   "nbconvert_exporter": "python",
   "pygments_lexer": "ipython3",
   "version": "3.12.9"
  }
 },
 "nbformat": 4,
 "nbformat_minor": 5
}
