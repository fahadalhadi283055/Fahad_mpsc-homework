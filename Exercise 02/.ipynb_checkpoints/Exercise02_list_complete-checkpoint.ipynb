{
 "cells": [
  {
   "cell_type": "code",
   "execution_count": 3,
   "id": "e6e500e4-c032-48ca-80c6-1cce913e7eca",
   "metadata": {},
   "outputs": [
    {
     "name": "stdout",
     "output_type": "stream",
     "text": [
      "['MANGO', 'KIWI', 'STRAWBERRY', 'GUAVA', 'PINEAPPLE', 'MANDARIN ORANGE']\n"
     ]
    }
   ],
   "source": [
    "# Exercise 1 - rewrite the above example code using list comprehension syntax. Make a variable named uppercased_fruits to hold the output of the list comprehension. Output should be ['MANGO', 'KIWI', etc...]\n",
    "\n",
    "\n",
    "fruits = ['mango', 'kiwi', 'strawberry', 'guava', 'pineapple', 'mandarin orange']\n",
    "uppercased_fruits= [fruit.upper() for fruit in fruits];print(uppercased_fruits)"
   ]
  },
  {
   "cell_type": "code",
   "execution_count": 4,
   "id": "f2353ef1-151e-4d70-823f-e155213868af",
   "metadata": {},
   "outputs": [
    {
     "name": "stdout",
     "output_type": "stream",
     "text": [
      "['Mango', 'Kiwi', 'Strawberry', 'Guava', 'Pineapple', 'Mandarin orange']\n"
     ]
    }
   ],
   "source": [
    "# Exercise 2 - create a variable named capitalized_fruits and use list comprehension syntax to produce output like ['Mango', 'Kiwi', 'Strawberry', etc...]\n",
    "\n",
    "\n",
    "fruits = ['mango', 'kiwi', 'strawberry', 'guava', 'pineapple', 'mandarin orange']\n",
    "capitalized_fruits=[capital[0].upper()+capital[1:] for capital in fruits]; print (capitalized_fruits)"
   ]
  },
  {
   "cell_type": "code",
   "execution_count": 5,
   "id": "0fc0f719-594d-4cea-bff6-e7f562ce2e5f",
   "metadata": {},
   "outputs": [
    {
     "name": "stdout",
     "output_type": "stream",
     "text": [
      "['guava', 'pineapple', 'mandarin orange']\n"
     ]
    }
   ],
   "source": [
    "# Exercise 3 - Use a list comprehension to make a variable named fruits_with_more_than_two_vowels. Hint: You'll need a way to check if something is a vowel.\n",
    "\n",
    "\n",
    "fruits = ['mango', 'kiwi', 'strawberry', 'guava', 'pineapple', 'mandarin orange']\n",
    "fruits_with_more_than_two_vowels=[vowels for vowels in fruits if sum (1 for letter in vowels if letter in \"aeiou\")>2]\n",
    "print(fruits_with_more_than_two_vowels)"
   ]
  },
  {
   "cell_type": "code",
   "execution_count": 6,
   "id": "7095fca7-1586-4d21-a920-d7a4c0f355b9",
   "metadata": {},
   "outputs": [
    {
     "name": "stdout",
     "output_type": "stream",
     "text": [
      "['mango', 'kiwi', 'strawberry']\n"
     ]
    }
   ],
   "source": [
    "# Exercise 4 - make a variable named fruits_with_only_two_vowels. The result should be ['mango', 'kiwi', 'strawberry']\n",
    "\n",
    "\n",
    "fruits_with_only_two_vowels=[vowels for vowels in fruits if sum (1 for letter in vowels if letter in \"aeiou\") ==2]\n",
    "print(fruits_with_only_two_vowels)\n"
   ]
  },
  {
   "cell_type": "code",
   "execution_count": 7,
   "id": "d88e68c0-30f5-46f4-a85a-b7651818686f",
   "metadata": {},
   "outputs": [
    {
     "name": "stdout",
     "output_type": "stream",
     "text": [
      "['strawberry', 'pineapple', 'mandarin orange']\n"
     ]
    }
   ],
   "source": [
    "# Exercise 5 - make a list that contains each fruit with more than 5 characters\n",
    "\n",
    "\n",
    "fruit_with_more_than_5_characters=[letter for letter in fruits if sum (1 for cha in letter) >5]\n",
    "print(fruit_with_more_than_5_characters)"
   ]
  },
  {
   "cell_type": "code",
   "execution_count": 8,
   "id": "511c4810-7f27-469e-a525-8bbbdc015dfa",
   "metadata": {},
   "outputs": [
    {
     "name": "stdout",
     "output_type": "stream",
     "text": [
      "['mango', 'guava']\n"
     ]
    }
   ],
   "source": [
    "# Exercise 6 - make a list that contains each fruit with exactly 5 characters\n",
    "\n",
    "\n",
    "fruit_with_exactly_5_characters=[letter for letter in fruits if sum (1 for cha in letter) ==5]\n",
    "print(fruit_with_exactly_5_characters)"
   ]
  },
  {
   "cell_type": "code",
   "execution_count": 9,
   "id": "13597e19-b736-4648-85a0-65c27dc57e15",
   "metadata": {},
   "outputs": [
    {
     "name": "stdout",
     "output_type": "stream",
     "text": [
      "['kiwi']\n"
     ]
    }
   ],
   "source": [
    "# Exercise 7 - Make a list that contains fruits that have less than 5 characters\n",
    "\n",
    "\n",
    "fruit_with_less_than_5_characters=[letter for letter in fruits if sum (1 for cha in letter) <5]\n",
    "print(fruit_with_less_than_5_characters)"
   ]
  },
  {
   "cell_type": "code",
   "execution_count": 10,
   "id": "7bbe08c3-1cae-46cf-8186-5b42b1203284",
   "metadata": {},
   "outputs": [
    {
     "name": "stdout",
     "output_type": "stream",
     "text": [
      "[5, 4, 10, 5, 9, 15]\n"
     ]
    }
   ],
   "source": [
    "# Exercise 8 - Make a list containing the number of characters in each fruit. Output would be [5, 4, 10, etc... ]\n",
    "\n",
    "\n",
    "fruits = ['mango', 'kiwi', 'strawberry', 'guava', 'pineapple', 'mandarin orange']\n",
    "number_of_characters_in_each_fruit=[len(number) for number in fruits]\n",
    "print(number_of_characters_in_each_fruit)"
   ]
  },
  {
   "cell_type": "code",
   "execution_count": 11,
   "id": "280c6cb5-f7d0-4362-91b6-e7616dfb1cef",
   "metadata": {},
   "outputs": [
    {
     "name": "stdout",
     "output_type": "stream",
     "text": [
      "['mango', 'strawberry', 'guava', 'pineapple', 'mandarin orange']\n"
     ]
    }
   ],
   "source": [
    "# Exercise 9 - Make a variable named fruits_with_letter_a that contains a list of only the fruits that contain the letter \"a\"\n",
    "\n",
    "\n",
    "fruits = ['mango', 'kiwi', 'strawberry', 'guava', 'pineapple', 'mandarin orange']\n",
    "fruits_with_letter_a=[letter for letter in fruits if 'a' in letter] \n",
    "print(fruits_with_letter_a)"
   ]
  },
  {
   "cell_type": "code",
   "execution_count": 12,
   "id": "2744d3a6-b119-4a7b-81e7-23ada6349a46",
   "metadata": {},
   "outputs": [
    {
     "name": "stdout",
     "output_type": "stream",
     "text": [
      "['kiwi', 'strawberry']\n",
      "[2, 4, 6, 10]\n"
     ]
    }
   ],
   "source": [
    "# Exercise 10 - Make a variable named even_numbers that holds only the even numbers \n",
    "# -\n",
    "\n",
    "fruits = ['mango', 'kiwi', 'strawberry', 'guava', 'pineapple', 'mandarin orange']\n",
    "even_numbers=[letter for letter in fruits if sum (1 for cha in letter) % 2 ==0]\n",
    "print(even_numbers)\n",
    "\n",
    "numebers=[1,2,3,4,5,6,7, 9,10]\n",
    "even_numbers=[letter for letter in numebers if letter % 2 ==0]\n",
    "print(even_numbers)\n"
   ]
  },
  {
   "cell_type": "code",
   "execution_count": 13,
   "id": "a5d85963-118e-45fa-b25b-9ba73bffac4f",
   "metadata": {},
   "outputs": [
    {
     "name": "stdout",
     "output_type": "stream",
     "text": [
      "[1, 3, 5, 7, 9, 11]\n"
     ]
    }
   ],
   "source": [
    "#Exercise 11 - Make a variable named odd_numbers that holds only the odd numbers\n",
    "\n",
    "\n",
    "numebers=[1,2,3,4,5,6,7, 9,10,11]\n",
    "odd_numbers=[letter for letter in numebers if letter % 2 !=0]\n",
    "print(odd_numbers)"
   ]
  },
  {
   "cell_type": "code",
   "execution_count": 14,
   "id": "2f45990b-1d8e-4979-80e5-32aed286021c",
   "metadata": {},
   "outputs": [
    {
     "name": "stdout",
     "output_type": "stream",
     "text": [
      "[1, 2, 3, 4, 6, 7, 9, 11]\n"
     ]
    }
   ],
   "source": [
    "# Exercise 12 - Make a variable named positive_numbers that holds only the positive numbers\n",
    "\n",
    "\n",
    "numebers=[1,2,3,4,-5,6,7, 9,-10,11]\n",
    "positive_numbers=[letter for letter in numebers if letter>0]\n",
    "print(positive_numbers)"
   ]
  },
  {
   "cell_type": "code",
   "execution_count": 15,
   "id": "e9cd5bfb-e409-4c7a-8941-914c74225b4c",
   "metadata": {},
   "outputs": [
    {
     "name": "stdout",
     "output_type": "stream",
     "text": [
      "[-5, -10]\n"
     ]
    }
   ],
   "source": [
    "# Exercise 13 - Make a variable named negative_numbers that holds only the negative numbers\n",
    "\n",
    "\n",
    "numebers=[1,2,3,4,-5,6,7, 9,-10,11]\n",
    "negative_numbers=[letter for letter in numebers if letter<0]\n",
    "print(negative_numbers)"
   ]
  }
 ],
 "metadata": {
  "kernelspec": {
   "display_name": "Python 3 (ipykernel)",
   "language": "python",
   "name": "python3"
  },
  "language_info": {
   "codemirror_mode": {
    "name": "ipython",
    "version": 3
   },
   "file_extension": ".py",
   "mimetype": "text/x-python",
   "name": "python",
   "nbconvert_exporter": "python",
   "pygments_lexer": "ipython3",
   "version": "3.12.9"
  }
 },
 "nbformat": 4,
 "nbformat_minor": 5
}
